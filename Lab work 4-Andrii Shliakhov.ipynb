{
 "cells": [
  {
   "cell_type": "markdown",
   "metadata": {},
   "source": [
    "___\n",
    "\n",
    "<a href='https://mainacademy.ua/'> <img src='https://mainacademy.ua/wp-content/uploads/2019/03/logo-main.png' alt = 'Хмм, щось з інтернетом'/></a>\n",
    "___\n",
    "\n",
    "# Module 4: Work with data professionally!"
   ]
  },
  {
   "cell_type": "markdown",
   "metadata": {},
   "source": [
    "## Lab work 4\n",
    "\n"
   ]
  },
  {
   "cell_type": "markdown",
   "metadata": {},
   "source": [
    "#### Мета: \n",
    "\n",
    "* навчитися обробляти дані\n",
    "* \"парсити\" сайти"
   ]
  },
  {
   "cell_type": "markdown",
   "metadata": {},
   "source": [
    "### Завдання 1:"
   ]
  },
  {
   "cell_type": "markdown",
   "metadata": {},
   "source": [
    "#### Ознайомитися із API Національного банку \n",
    "https://old.bank.gov.ua/control/uk/publish/article?art_id=38441973&cat_id=38459171#exchange\n",
    "\n"
   ]
  },
  {
   "cell_type": "markdown",
   "metadata": {},
   "source": [
    "1. Підключитися до API.\n"
   ]
  },
  {
   "cell_type": "code",
   "execution_count": 1,
   "metadata": {},
   "outputs": [],
   "source": [
    "from datetime import datetime, timedelta\n",
    "from dateutil.relativedelta import relativedelta\n",
    "import requests\n",
    "\n",
    "l=[]\n",
    "date=datetime.now()\n",
    "\n",
    "for i in range(365):\n",
    "    webpage = f\"https://bank.gov.ua/NBUStatService/v1/statdirectory/exchange?date={date.strftime('%Y%m%d')}&json\"\n",
    "    r=requests.get(webpage)\n",
    "    \n",
    "    if r.status_code==200:\n",
    "        data=r.json()\n",
    "        for currency in data:\n",
    "            if currency['cc']=='USD':\n",
    "                tmp=date.strftime('%Y%m'), currency[\"rate\"]\n",
    "                l.append(tmp)\n",
    "           \n",
    "    date-=timedelta(days=1)"
   ]
  },
  {
   "cell_type": "markdown",
   "metadata": {},
   "source": [
    "2. Отримати курс долара за останній рік."
   ]
  },
  {
   "cell_type": "code",
   "execution_count": 3,
   "metadata": {},
   "outputs": [],
   "source": [
    "d = {}\n",
    "for i in l:\n",
    "    d.setdefault(i[0], []).append(i[1])"
   ]
  },
  {
   "cell_type": "markdown",
   "metadata": {},
   "source": [
    "3. Вивести середнє значення та відхилення курсу за кожний місяць."
   ]
  },
  {
   "cell_type": "code",
   "execution_count": 4,
   "metadata": {},
   "outputs": [
    {
     "name": "stdout",
     "output_type": "stream",
     "text": [
      "Средний курс в разрезе месяцев: {'202108': 26.77, '202107': 27.21, '202106': 27.24, '202105': 27.6, '202104': 27.93, '202103': 27.8, '202102': 27.88, '202101': 28.22, '202012': 28.17, '202011': 28.31, '202010': 28.32, '202009': 27.98, '202008': 27.44}\n",
      "Стандартное отклонение в разрезе месяцев: {'202108': 0.11, '202107': 0.16, '202106': 0.16, '202105': 0.12, '202104': 0.09, '202103': 0.12, '202102': 0.11, '202101': 0.12, '202012': 0.25, '202011': 0.15, '202010': 0.06, '202009': 0.24, '202008': 0.04}\n"
     ]
    }
   ],
   "source": [
    "import statistics\n",
    "\n",
    "Avg_by_month='Средний курс в разрезе месяцев: '+str({key:round(statistics.mean(values),2) for key, values in d.items()})\n",
    "St_dev_by_month='Стандартное отклонение в разрезе месяцев: '+str({key:round(statistics.stdev(values),2) for key, values in d.items()})\n",
    "\n",
    "print(Avg_by_month)\n",
    "print(St_dev_by_month)"
   ]
  },
  {
   "cell_type": "markdown",
   "metadata": {},
   "source": [
    "4. Дану інформацію записати у файл за допомогою pickle."
   ]
  },
  {
   "cell_type": "code",
   "execution_count": 5,
   "metadata": {},
   "outputs": [
    {
     "data": {
      "text/plain": [
       "[\"Средний курс в разрезе месяцев: {'202108': 26.77, '202107': 27.21, '202106': 27.24, '202105': 27.6, '202104': 27.93, '202103': 27.8, '202102': 27.88, '202101': 28.22, '202012': 28.17, '202011': 28.31, '202010': 28.32, '202009': 27.98, '202008': 27.44}\",\n",
       " \"Стандартное отклонение в разрезе месяцев: {'202108': 0.11, '202107': 0.16, '202106': 0.16, '202105': 0.12, '202104': 0.09, '202103': 0.12, '202102': 0.11, '202101': 0.12, '202012': 0.25, '202011': 0.15, '202010': 0.06, '202009': 0.24, '202008': 0.04}\"]"
      ]
     },
     "execution_count": 5,
     "metadata": {},
     "output_type": "execute_result"
    }
   ],
   "source": [
    "import pickle\n",
    "\n",
    "try:\n",
    "    file=open('курс_доллара.pickle', 'wb')\n",
    "    try:\n",
    "        pickle.dump([Avg_by_month,St_dev_by_month], file)\n",
    "    finally:\n",
    "        file.close()     \n",
    "except FileNotFoundError:\n",
    "    print('Невозможно открыть файл')\n",
    "     \n",
    "# file=open('курс_доллара.pickle', 'rb')\n",
    "# check=pickle.load(file)\n",
    "# file.close\n",
    "\n",
    "# check"
   ]
  },
  {
   "cell_type": "markdown",
   "metadata": {},
   "source": [
    "### Завдання 2:"
   ]
  },
  {
   "cell_type": "markdown",
   "metadata": {},
   "source": [
    "Потрібно проаналізувати всі товари на сайті: \n",
    "https://smallpacking.agrosem.ua/shop/"
   ]
  },
  {
   "cell_type": "markdown",
   "metadata": {},
   "source": [
    "Створіть базу даних, що містить таблицю із такими стовбцями: \n",
    "    - артикул товару\n",
    "    - найменування\n",
    "    - ціна \n",
    "    - вага"
   ]
  },
  {
   "cell_type": "code",
   "execution_count": 85,
   "metadata": {},
   "outputs": [
    {
     "name": "stdout",
     "output_type": "stream",
     "text": [
      "Парсинг страницы 1 из 8\n",
      "Парсинг страницы 2 из 8\n",
      "Парсинг страницы 3 из 8\n",
      "Парсинг страницы 4 из 8\n",
      "Парсинг страницы 5 из 8\n",
      "Парсинг страницы 6 из 8\n",
      "Парсинг страницы 7 из 8\n",
      "Парсинг страницы 8 из 8\n"
     ]
    }
   ],
   "source": [
    "import requests\n",
    "from bs4 import BeautifulSoup\n",
    "\n",
    "URL='https://smallpacking.agrosem.ua/shop/'\n",
    "HEADERS={\n",
    "            'User-Agent': 'Mozilla/5.0 (Windows NT 6.1; WOW64; rv:49.0) Gecko/20100101 Firefox/49.0',\n",
    "            'Accept': 'text/html,application/xhtml+xml,application/xml;q=0.9,*/*;q=0.8',\n",
    "            'Accept-Language': 'en-US,en;q=0.5',\n",
    "            'Accept-Encoding': 'gzip, deflate',\n",
    "            'DNT': '1',\n",
    "            'Connection': 'keep-alive',\n",
    "            'Upgrade-Insecure-Requests': '1'\n",
    "        }\n",
    "\n",
    "def get_html(url):\n",
    "    r=requests.get(url, headers=HEADERS)\n",
    "    return r\n",
    "\n",
    "def get_pages_count(html):\n",
    "    soup=BeautifulSoup(html, 'lxml')\n",
    "    pagination=soup.find_all('a', class_='page-numbers')\n",
    "    if pagination:\n",
    "        return int(pagination[-2].get_text())\n",
    "    else:\n",
    "        return 1\n",
    "\n",
    "def get_content(html):\n",
    "    soup=BeautifulSoup(html, 'lxml')\n",
    "    items=soup.find_all('div', class_='product-from-category-container')\n",
    "    links=[]\n",
    "    for i in items:\n",
    "        links.append(i.a.get('href'))\n",
    "    l=[]\n",
    "    for i in links:\n",
    "        soup=BeautifulSoup(get_html(i).text, 'lxml')\n",
    "        l.append ((\n",
    "            soup.find('span', class_='sku').text.split()[1],\n",
    "            soup.find('div', class_='atributes-description').h2.text,\n",
    "            soup.find('span', class_='regular-price').text.replace(\" \", \"\").replace(\"грн\",\"\"),\n",
    "            soup.find('span', class_='type-packaging-name').text\n",
    "        ))\n",
    "    return l\n",
    "        \n",
    "def parse():\n",
    "    html=get_html(URL)\n",
    "    if html.status_code==200:\n",
    "        l=[]\n",
    "        pages_count=get_pages_count(html.text)\n",
    "        for page in range (1, pages_count+1):\n",
    "            print(f'Парсинг страницы {page} из {pages_count}')\n",
    "            html=get_html(URL+str('page/'+str(page)+\"/\"))\n",
    "            l.extend(get_content(html.text))\n",
    "            \n",
    "            import sqlite3\n",
    "            conn=sqlite3.connect('agrosem.sqlite')\n",
    "            curs=conn.cursor()\n",
    "\n",
    "            curs.execute(\"\"\" create table if not exists agrosem (\n",
    "                    sku_code text not null,\n",
    "                    sku_name text not null,\n",
    "                    price int not null,\n",
    "                    type text not null \n",
    "                ) \"\"\")\n",
    "\n",
    "            curs.executemany(\"\"\" insert into agrosem values (?, ?, ?, ?) \"\"\", l)\n",
    "            conn.commit()\n",
    "    else:\n",
    "        print('Error')\n",
    "    \n",
    "parse()"
   ]
  },
  {
   "cell_type": "markdown",
   "metadata": {},
   "source": [
    "### Завдання 3: "
   ]
  },
  {
   "cell_type": "markdown",
   "metadata": {},
   "source": [
    "Ознайомтеся із роботою SQLite та відповідним модулем у Python.\n",
    "Завантажте базу даних для виконання лабораторної роботи.\n",
    "Підключіться до завантаженої бази SQLite."
   ]
  },
  {
   "cell_type": "markdown",
   "metadata": {},
   "source": [
    "1. Виведіть інформацію про дану базу."
   ]
  },
  {
   "cell_type": "code",
   "execution_count": 13,
   "metadata": {},
   "outputs": [],
   "source": [
    "import sqlite3"
   ]
  },
  {
   "cell_type": "markdown",
   "metadata": {},
   "source": [
    "2. Виведіть перелік всіх таблиць."
   ]
  },
  {
   "cell_type": "code",
   "execution_count": 50,
   "metadata": {},
   "outputs": [
    {
     "name": "stdout",
     "output_type": "stream",
     "text": [
      "('Customers',)\n",
      "('OrderItems',)\n",
      "('Orders',)\n",
      "('Products',)\n",
      "('Vendors',)\n"
     ]
    }
   ],
   "source": [
    "conn=sqlite3.connect('tysql.sqlite')\n",
    "curs=conn.cursor()\n",
    "\n",
    "curs.execute(\"\"\"\n",
    "SELECT name FROM sqlite_master WHERE type='table'\n",
    "\"\"\")\n",
    "for result in curs:\n",
    "    print(result)"
   ]
  },
  {
   "cell_type": "markdown",
   "metadata": {},
   "source": [
    "3. Список всіх cust_id з таблиці Customers table."
   ]
  },
  {
   "cell_type": "code",
   "execution_count": 58,
   "metadata": {},
   "outputs": [
    {
     "name": "stdout",
     "output_type": "stream",
     "text": [
      "['cust_id']\n",
      "('1000000001',)\n",
      "('1000000002',)\n",
      "('1000000003',)\n",
      "('1000000004',)\n",
      "('1000000005',)\n"
     ]
    }
   ],
   "source": [
    "curs.execute(\"\"\"\n",
    "select distinct cust_id from Customers\n",
    "\"\"\")\n",
    "name = list(map(lambda x: x[0], curs.description))\n",
    "print(name)\n",
    "for result in curs:\n",
    "    print(result)"
   ]
  },
  {
   "cell_type": "markdown",
   "metadata": {},
   "source": [
    "4. Всю таблицю Customers table"
   ]
  },
  {
   "cell_type": "code",
   "execution_count": 59,
   "metadata": {},
   "outputs": [
    {
     "name": "stdout",
     "output_type": "stream",
     "text": [
      "['cust_id', 'cust_name', 'cust_address', 'cust_city', 'cust_state', 'cust_zip', 'cust_country', 'cust_contact', 'cust_email']\n",
      "('1000000001', 'Village Toys', '200 Maple Lane', 'Detroit', 'MI', '44444', 'USA', 'John Smith', 'sales@villagetoys.com')\n",
      "('1000000002', 'Kids Place', '333 South Lake Drive', 'Columbus', 'OH', '43333', 'USA', 'Michelle Green', None)\n",
      "('1000000003', 'Fun4All', '1 Sunny Place', 'Muncie', 'IN', '42222', 'USA', 'Jim Jones', 'jjones@fun4all.com')\n",
      "('1000000004', 'Fun4All', '829 Riverside Drive', 'Phoenix', 'AZ', '88888', 'USA', 'Denise L. Stephens', 'dstephens@fun4all.com')\n",
      "('1000000005', 'The Toy Store', '4545 53rd Street', 'Chicago', 'IL', '54545', 'USA', 'Kim Howard', None)\n"
     ]
    }
   ],
   "source": [
    "curs.execute(\"\"\"\n",
    "select * from Customers\n",
    "\"\"\")\n",
    "name = list(map(lambda x: x[0], curs.description))\n",
    "print(name)\n",
    "for result in curs:\n",
    "    print(result)"
   ]
  },
  {
   "cell_type": "markdown",
   "metadata": {},
   "source": [
    "5. Список клієнтів (cust_names) відсортованих від Z до A"
   ]
  },
  {
   "cell_type": "code",
   "execution_count": 60,
   "metadata": {},
   "outputs": [
    {
     "name": "stdout",
     "output_type": "stream",
     "text": [
      "['cust_name']\n",
      "('Fun4All',)\n",
      "('Fun4All',)\n",
      "('Kids Place',)\n",
      "('The Toy Store',)\n",
      "('Village Toys',)\n"
     ]
    }
   ],
   "source": [
    "curs.execute(\"\"\"\n",
    "select cust_name from Customers\n",
    "order by cust_name\n",
    "\"\"\")\n",
    "name = list(map(lambda x: x[0], curs.description))\n",
    "print(name)\n",
    "for result in curs:\n",
    "    print(result)"
   ]
  },
  {
   "cell_type": "markdown",
   "metadata": {},
   "source": [
    "6. Таблицю клієнтів та замовлень (cust_id і order_num) . Відсортуйте по клієнту і потім по даті замовлення"
   ]
  },
  {
   "cell_type": "code",
   "execution_count": 61,
   "metadata": {},
   "outputs": [
    {
     "name": "stdout",
     "output_type": "stream",
     "text": [
      "['cust_id', 'order_num']\n",
      "('1000000001', 20009)\n",
      "('1000000001', 20005)\n",
      "('1000000002', None)\n",
      "('1000000003', 20006)\n",
      "('1000000004', 20007)\n",
      "('1000000005', 20008)\n"
     ]
    }
   ],
   "source": [
    "curs.execute(\"\"\"\n",
    "select f1.cust_id, f2.order_num \n",
    "from Customers f1\n",
    "left join Orders f2 on f1.cust_id=f2.cust_id\n",
    "order by f1.cust_id, f2.order_date\n",
    "\"\"\")\n",
    "name = list(map(lambda x: x[0], curs.description))\n",
    "print(name)\n",
    "for result in curs:\n",
    "    print(result)"
   ]
  },
  {
   "cell_type": "markdown",
   "metadata": {},
   "source": [
    "7. Таблицю (на основі Items) з кількість та вартістю товару. Відсортуйте в порядку спадання по кількості та вартості"
   ]
  },
  {
   "cell_type": "code",
   "execution_count": 62,
   "metadata": {},
   "outputs": [
    {
     "name": "stdout",
     "output_type": "stream",
     "text": [
      "['prod_id', 'quantity', 'item_price']\n",
      "('BNBG01', 250, 2.49)\n",
      "('BNBG02', 250, 2.49)\n",
      "('BNBG03', 250, 2.49)\n",
      "('BR03', 100, 10.99)\n",
      "('BR01', 100, 5.49)\n",
      "('BNBG01', 100, 2.99)\n",
      "('BNBG02', 100, 2.99)\n",
      "('BNBG03', 100, 2.99)\n",
      "('BR03', 50, 11.49)\n",
      "('RGAN01', 50, 4.49)\n",
      "('BR01', 20, 5.99)\n",
      "('BR03', 10, 11.99)\n",
      "('BR02', 10, 8.99)\n",
      "('BNBG01', 10, 3.49)\n",
      "('BNBG02', 10, 3.49)\n",
      "('BNBG03', 10, 3.49)\n",
      "('BR03', 5, 11.99)\n",
      "('RGAN01', 5, 4.99)\n"
     ]
    }
   ],
   "source": [
    "curs.execute(\"\"\"\n",
    "select prod_id, quantity, item_price\n",
    "from OrderItems\n",
    "order by quantity desc, item_price desc\n",
    "\"\"\")\n",
    "name = list(map(lambda x: x[0], curs.description))\n",
    "print(name)\n",
    "for result in curs:\n",
    "    print(result)"
   ]
  },
  {
   "cell_type": "markdown",
   "metadata": {},
   "source": [
    "8. Товар (з таблиці Products), ціна якого становить 9.49"
   ]
  },
  {
   "cell_type": "code",
   "execution_count": 64,
   "metadata": {},
   "outputs": [
    {
     "name": "stdout",
     "output_type": "stream",
     "text": [
      "['prod_id', 'prod_name']\n",
      "('RYL01', 'King doll')\n",
      "('RYL02', 'Queen doll')\n"
     ]
    }
   ],
   "source": [
    "curs.execute(\"\"\"\n",
    "select prod_id, prod_name from Products where prod_price=9.49\n",
    "\"\"\")\n",
    "name = list(map(lambda x: x[0], curs.description))\n",
    "print(name)\n",
    "for result in curs:\n",
    "    print(result)"
   ]
  },
  {
   "cell_type": "markdown",
   "metadata": {},
   "source": [
    "9. Виведіть назву товару та ціну, яка лежить в діапазоні від  3 до 6. Відсортуйте результат в по ціні в порядку зростання"
   ]
  },
  {
   "cell_type": "code",
   "execution_count": 75,
   "metadata": {},
   "outputs": [
    {
     "name": "stdout",
     "output_type": "stream",
     "text": [
      "['prod_name', 'prod_price']\n",
      "('Fish bean bag toy', 3.49)\n",
      "('Bird bean bag toy', 3.49)\n",
      "('Rabbit bean bag toy', 3.49)\n",
      "('Raggedy Ann', 4.99)\n",
      "('8 inch teddy bear', 5.99)\n",
      "('12 inch teddy bear', 8.99)\n"
     ]
    }
   ],
   "source": [
    "curs.execute(\"\"\"\n",
    "select prod_name, prod_price from Products where prod_price between 3.00 and 9.00 order by prod_price\n",
    "\"\"\")\n",
    "name = list(map(lambda x: x[0], curs.description))\n",
    "print(name)\n",
    "for result in curs:\n",
    "    print(result)"
   ]
  },
  {
   "cell_type": "markdown",
   "metadata": {},
   "source": [
    "10. Кількість товару, що було продано"
   ]
  },
  {
   "cell_type": "code",
   "execution_count": 69,
   "metadata": {},
   "outputs": [
    {
     "name": "stdout",
     "output_type": "stream",
     "text": [
      "['salout_qty_pcs']\n",
      "(45,)\n"
     ]
    }
   ],
   "source": [
    "curs.execute(\"\"\"\n",
    "select sum(order_item) as 'salout_qty_pcs' from OrderItems\n",
    "\"\"\")\n",
    "name = list(map(lambda x: x[0], curs.description))\n",
    "print(name)\n",
    "for result in curs:\n",
    "    print(result)"
   ]
  },
  {
   "cell_type": "markdown",
   "metadata": {},
   "source": [
    "11. Кількість найменувань товару, ціна якого більша за 4"
   ]
  },
  {
   "cell_type": "code",
   "execution_count": 72,
   "metadata": {},
   "outputs": [
    {
     "name": "stdout",
     "output_type": "stream",
     "text": [
      "['count_products']\n",
      "(6,)\n"
     ]
    }
   ],
   "source": [
    "curs.execute(\"\"\"\n",
    "select count(distinct prod_name) as 'count_products' from Products where prod_price > 4\n",
    "\"\"\") ##count(prod_id) но я так понял, что \"найменувань\" -  это именно prod_name\n",
    "name = list(map(lambda x: x[0], curs.description))\n",
    "print(name)\n",
    "for result in curs:\n",
    "    print(result)"
   ]
  },
  {
   "cell_type": "markdown",
   "metadata": {},
   "source": [
    "12. Розробіть алгоритм для виведення 3 найдорожчих товарів в базі"
   ]
  },
  {
   "cell_type": "code",
   "execution_count": 79,
   "metadata": {},
   "outputs": [
    {
     "name": "stdout",
     "output_type": "stream",
     "text": [
      "['prod_id', 'prod_name']\n",
      "('BR03', '18 inch teddy bear')\n",
      "('RYL01', 'King doll')\n",
      "('RYL02', 'Queen doll')\n"
     ]
    }
   ],
   "source": [
    "curs.execute(\"\"\"\n",
    "select prod_id, prod_name from Products order by prod_price desc limit 3\n",
    "\"\"\")\n",
    "name = list(map(lambda x: x[0], curs.description))\n",
    "print(name)\n",
    "for result in curs:\n",
    "    print(result)"
   ]
  },
  {
   "cell_type": "markdown",
   "metadata": {},
   "source": [
    "13. Підрахуйте кількість замовлень для кожного клієнта використовуючи підзапити"
   ]
  },
  {
   "cell_type": "code",
   "execution_count": 81,
   "metadata": {},
   "outputs": [
    {
     "name": "stdout",
     "output_type": "stream",
     "text": [
      "['count_order_num', 'cust_id']\n",
      "(2, '1000000001')\n",
      "(1, '1000000003')\n",
      "(1, '1000000004')\n",
      "(1, '1000000005')\n"
     ]
    }
   ],
   "source": [
    "curs.execute(\"\"\"\n",
    "select count_order_num, cust_id from (\n",
    "    select count(order_num) as count_order_num, cust_id from Orders group by cust_id\n",
    ") f1\n",
    "\"\"\")\n",
    "name = list(map(lambda x: x[0], curs.description))\n",
    "print(name)\n",
    "for result in curs:\n",
    "    print(result)"
   ]
  },
  {
   "cell_type": "markdown",
   "metadata": {},
   "source": [
    "14. Виведіть список клієнтів та їх замовлення (використайте JOIN)"
   ]
  },
  {
   "cell_type": "code",
   "execution_count": 82,
   "metadata": {},
   "outputs": [
    {
     "name": "stdout",
     "output_type": "stream",
     "text": [
      "['cust_id', 'cust_name', 'order_num']\n",
      "('1000000001', 'Village Toys', 20005)\n",
      "('1000000003', 'Fun4All', 20006)\n",
      "('1000000004', 'Fun4All', 20007)\n",
      "('1000000005', 'The Toy Store', 20008)\n",
      "('1000000001', 'Village Toys', 20009)\n"
     ]
    }
   ],
   "source": [
    "curs.execute(\"\"\"\n",
    "select f1.cust_id, f1.cust_name, f2.order_num\n",
    "from Customers f1 inner join Orders f2 on f1.cust_id=f2.cust_id\n",
    "\"\"\")\n",
    "name = list(map(lambda x: x[0], curs.description))\n",
    "print(name)\n",
    "for result in curs:\n",
    "    print(result)"
   ]
  },
  {
   "cell_type": "markdown",
   "metadata": {},
   "source": [
    "15. Зробіть два запити: список товарів, ціна яких менша 5 та список товарів, ціна який більша рівна 5. Використайте UNION для об'єднання цих запитів"
   ]
  },
  {
   "cell_type": "code",
   "execution_count": 89,
   "metadata": {},
   "outputs": [
    {
     "name": "stdout",
     "output_type": "stream",
     "text": [
      "['prod_id', 'prod_name']\n",
      "('BNBG01', 'Fish bean bag toy')\n",
      "('BNBG02', 'Bird bean bag toy')\n",
      "('BNBG03', 'Rabbit bean bag toy')\n",
      "('BR01', '8 inch teddy bear')\n",
      "('BR02', '12 inch teddy bear')\n",
      "('BR03', '18 inch teddy bear')\n",
      "('RGAN01', 'Raggedy Ann')\n",
      "('RYL01', 'King doll')\n",
      "('RYL02', 'Queen doll')\n"
     ]
    }
   ],
   "source": [
    "curs.execute(\"\"\"\n",
    "select distinct prod_id, prod_name from Products where prod_price < 5\n",
    "union\n",
    "select distinct prod_id, prod_name from Products where prod_price >= 5\n",
    "\"\"\") ##count(prod_id) но  я так понял, что \"найменувань\" -  это именно prod_name\n",
    "name = list(map(lambda x: x[0], curs.description))\n",
    "print(name)\n",
    "for result in curs:\n",
    "    print(result)"
   ]
  },
  {
   "cell_type": "markdown",
   "metadata": {},
   "source": [
    "### Завдання 4: "
   ]
  },
  {
   "cell_type": "markdown",
   "metadata": {},
   "source": [
    "Зареєструйтеся на сайті  http://www.sql-ex.ru/\n",
    "\n",
    "Виконайте завдання із блоку SELECT; з 1 по 30 завдання\n",
    "\n",
    "Код запитів вставляйте сюди\n"
   ]
  },
  {
   "cell_type": "markdown",
   "metadata": {},
   "source": [
    "#### Задание: 1 (Serge I: 2002-09-30)\n",
    "Найдите номер модели, скорость и размер жесткого диска для всех ПК стоимостью менее 500 дол. Вывести: model, speed и hd\n",
    "\n",
    "select prod.model, speed, hd  \n",
    "from Product prod  \n",
    "inner join PC pc on prod.model=pc.model  \n",
    "where pc.price<500"
   ]
  },
  {
   "cell_type": "markdown",
   "metadata": {},
   "source": [
    "#### Задание: 2 (Serge I: 2002-09-21)\n",
    "Найдите производителей принтеров. Вывести: maker\n",
    "\n",
    "select distinct maker  \n",
    "from Product  \n",
    "where type ='Printer'"
   ]
  },
  {
   "cell_type": "markdown",
   "metadata": {},
   "source": [
    "#### Задание: 3 (Serge I: 2002-09-30)\n",
    "Найдите номер модели, объем памяти и размеры экранов ПК-блокнотов, цена которых превышает 1000 дол.\n",
    "\n",
    "select model, ram, screen  \n",
    "from Laptop  \n",
    "where price>1000"
   ]
  },
  {
   "cell_type": "markdown",
   "metadata": {},
   "source": [
    "#### Задание: 4 (Serge I: 2002-09-21)\n",
    "Найдите все записи таблицы Printer для цветных принтеров.\n",
    "\n",
    "select *  \n",
    "from Printer  \n",
    "where color='y'"
   ]
  },
  {
   "cell_type": "markdown",
   "metadata": {},
   "source": [
    "#### Задание: 5 (Serge I: 2002-09-30)\n",
    "Найдите номер модели, скорость и размер жесткого диска ПК, имеющих 12x или 24x CD и цену менее 600 дол.\n",
    "\n",
    "select model, speed, hd  \n",
    "from PC  \n",
    "where price<600  \n",
    "and cd in ('12x', '24x')  "
   ]
  },
  {
   "cell_type": "markdown",
   "metadata": {},
   "source": [
    "#### Задание: 6 (Serge I: 2002-10-28)\n",
    "Для каждого производителя, выпускающего ПК-блокноты c объёмом жесткого диска не менее 10 Гбайт, найти скорости таких ПК-блокнотов. Вывод: производитель, скорость.\n",
    "\n",
    "select distinct f1.maker,f2.speed  \n",
    "FROM Product f1  \n",
    "inner join Laptop f2 on f1.model = f2.model   \n",
    "where f2.hd >= 10  "
   ]
  },
  {
   "cell_type": "markdown",
   "metadata": {},
   "source": [
    "#### Задание: 7 (Serge I: 2002-11-02)\n",
    "Найдите номера моделей и цены всех имеющихся в продаже продуктов (любого типа) производителя B (латинская буква).\n",
    "\n",
    "select distinct product.model, pc.price  \n",
    "from Product inner join pc on product.model = pc.model where maker = 'B'  \n",
    "union  \n",
    "select distinct product.model, laptop.price  \n",
    "from product inner join laptop on product.model=laptop.model where maker='B'  \n",
    "union  \n",
    "select distinct product.model, printer.price  \n",
    "from product inner join printer on product.model=printer.model where maker='B'  "
   ]
  },
  {
   "cell_type": "markdown",
   "metadata": {},
   "source": [
    "#### Задание: 8 (Serge I: 2003-02-03)\n",
    "Найдите производителя, выпускающего ПК, но не ПК-блокноты.\n",
    "\n",
    "select distinct maker  \n",
    "from Product f1  \n",
    "where (  \n",
    "  select count (1)   \n",
    "  from product f2  \n",
    "  where f2.type='PC'   \n",
    "  and f2.maker=f1.maker  \n",
    ") > 0 AND (  \n",
    "  select count (1)   \n",
    "  from product f2  \n",
    "  where f2.type = 'Laptop'  \n",
    "  and f2.maker = f1.maker  \n",
    ") = 0  "
   ]
  },
  {
   "cell_type": "markdown",
   "metadata": {},
   "source": [
    "#### Задание: 9 (Serge I: 2002-11-02)\n",
    "Найдите производителей ПК с процессором не менее 450 Мгц. Вывести: Maker\n",
    "\n",
    "select distinct maker  \n",
    "from Product f1  \n",
    "inner join PC f2 on f1.model=f2.model  \n",
    "where speed>=450  "
   ]
  },
  {
   "cell_type": "markdown",
   "metadata": {},
   "source": [
    "#### Задание: 10 (Serge I: 2002-09-23)\n",
    "Найдите модели принтеров, имеющих самую высокую цену. Вывести: model, price\n",
    "\n",
    "select model, price  \n",
    "from Printer  \n",
    "where price in (select max(price) from Printer)  "
   ]
  },
  {
   "cell_type": "markdown",
   "metadata": {},
   "source": [
    "#### Задание: 11 (Serge I: 2002-11-02)\n",
    "Найдите среднюю скорость ПК.\n",
    "\n",
    "select avg(speed)\n",
    "from PC"
   ]
  },
  {
   "cell_type": "markdown",
   "metadata": {},
   "source": [
    "#### Задание: 12 (Serge I: 2002-11-02)\n",
    "Найдите среднюю скорость ПК-блокнотов, цена которых превышает 1000 дол.\n",
    "\n",
    "select avg(speed)  \n",
    "from Laptop  \n",
    "where price>1000  "
   ]
  },
  {
   "cell_type": "markdown",
   "metadata": {},
   "source": [
    "#### Задание: 13 (Serge I: 2002-11-02)\n",
    "Найдите среднюю скорость ПК, выпущенных производителем A.\n",
    "\n",
    "select avg(f1.speed)  \n",
    "from PC f1   \n",
    "inner join Product f2 on f1.model=f2.model   \n",
    "where f2.maker='A'   "
   ]
  },
  {
   "cell_type": "markdown",
   "metadata": {},
   "source": [
    "#### Задание: 14 (Serge I: 2002-11-05)\n",
    "Найдите класс, имя и страну для кораблей из таблицы Ships, имеющих не менее 10 орудий.\n",
    "\n",
    "select f1.class, f1.name, f2.country  \n",
    "from Ships f1  \n",
    "inner join Classes f2 on f1.class=f2.class  \n",
    "where f2.numGuns>=10  "
   ]
  },
  {
   "cell_type": "markdown",
   "metadata": {},
   "source": [
    "#### Задание: 15 (Serge I: 2003-02-03)\n",
    "Найдите размеры жестких дисков, совпадающих у двух и более PC. Вывести: HD\n",
    "\n",
    "select hd  \n",
    "from PC  \n",
    "group by hd  \n",
    "having count(model)>=2  "
   ]
  },
  {
   "cell_type": "markdown",
   "metadata": {},
   "source": [
    "#### Задание: 16 (Serge I: 2003-02-03)\n",
    "Найдите пары моделей PC, имеющих одинаковые скорость и RAM. В результате каждая пара указывается только один раз, т.е. (i,j), но не (j,i), Порядок вывода: модель с большим номером, модель с меньшим номером, скорость и RAM.\n",
    "\n",
    "select distinct f1.model, f2.model, f1.speed, f1.ram  \n",
    "from pc f1, pc f2     \n",
    "where f1.speed=f2.speed   \n",
    "and f1.ram=f2.ram   \n",
    "and f1.model>f2.model  "
   ]
  },
  {
   "cell_type": "markdown",
   "metadata": {},
   "source": [
    "#### Задание: 17 (Serge I: 2003-02-03)\n",
    "Найдите модели ПК-блокнотов, скорость которых меньше скорости каждого из ПК.\n",
    "Вывести: type, model, speed\n",
    "\n",
    "select distinct f2.type, f1.model, f1.speed  \n",
    "from Laptop f1  \n",
    "inner join Product f2 on f1.model=f2.model  \n",
    "where f1.speed<(select min(speed) from PC)  "
   ]
  },
  {
   "cell_type": "markdown",
   "metadata": {},
   "source": [
    "#### Задание: 18 (Serge I: 2003-02-03)\n",
    "Найдите производителей самых дешевых цветных принтеров. Вывести: maker, price\n",
    "\n",
    "select distinct product.maker, printer.price  \n",
    "from product, printer  \n",
    "where product.model = printer.model  \n",
    "and printer.color = 'y'  \n",
    "and printer.price = (  \n",
    "select min(price) from printer  \n",
    "where printer.color = 'y'  \n",
    ")  "
   ]
  },
  {
   "cell_type": "markdown",
   "metadata": {},
   "source": [
    "#### Задание: 19 (Serge I: 2003-02-13)\n",
    "Для каждого производителя, имеющего модели в таблице Laptop, найдите средний размер экрана выпускаемых им ПК-блокнотов.\n",
    "Вывести: maker, средний размер экрана.\n",
    "\n",
    "\n",
    "select product.maker, avg(screen)  \n",
    "from laptop  \n",
    "left join product on product.model = laptop.model  \n",
    "group by product.maker  "
   ]
  },
  {
   "cell_type": "markdown",
   "metadata": {},
   "source": [
    "#### Задание: 20 (Serge I: 2003-02-13)\n",
    "Найдите производителей, выпускающих по меньшей мере три различных модели ПК. Вывести: Maker, число моделей ПК.\n",
    "\n",
    "select maker, count(model)  \n",
    "from product  \n",
    "where type ='pc'  \n",
    "group by product.maker  \n",
    "having count (distinct model)>=3  "
   ]
  },
  {
   "cell_type": "markdown",
   "metadata": {},
   "source": [
    "#### Задание: 21 (Serge I: 2003-02-13)\n",
    "Найдите максимальную цену ПК, выпускаемых каждым производителем, у которого есть модели в таблице PC.\n",
    "Вывести: maker, максимальная цена.\n",
    "\n",
    "select product.maker, max(pc.price)  \n",
    "from product, pc   \n",
    "where product.model = pc.model  \n",
    "group by product.maker  "
   ]
  },
  {
   "cell_type": "markdown",
   "metadata": {},
   "source": [
    "#### Задание: 22 (Serge I: 2003-02-13)\n",
    "Для каждого значения скорости ПК, превышающего 600 МГц, определите среднюю цену ПК с такой же скоростью. Вывести: speed, средняя цена.\n",
    "\n",
    "select pc.speed, avg(pc.price)  \n",
    "from pc   \n",
    "where pc.speed > 600  \n",
    "group by pc.speed  "
   ]
  },
  {
   "cell_type": "markdown",
   "metadata": {},
   "source": [
    "#### Задание: 23 (Serge I: 2003-02-14)\n",
    "Найдите производителей, которые производили бы как ПК\n",
    "со скоростью не менее 750 МГц, так и ПК-блокноты со скоростью не менее 750 МГц.\n",
    "Вывести: Maker\n",
    "\n",
    "select distinct maker  \n",
    "from product t1 inner join pc t2 on t1.model=t2.model  \n",
    "where speed>=750 and maker in(  \n",
    "select maker  \n",
    "from product t1 inner join laptop t2 on t1.model=t2.model  \n",
    "where speed>=750  \n",
    ")  "
   ]
  },
  {
   "cell_type": "markdown",
   "metadata": {},
   "source": [
    "#### Задание: 24 (Serge I: 2003-02-03)\n",
    "Перечислите номера моделей любых типов, имеющих самую высокую цену по всей имеющейся в базе данных продукции.\n",
    "\n",
    "select model  \n",
    "from (  \n",
    " select model, price  \n",
    " from pc  \n",
    " union  \n",
    " select model, price  \n",
    " from Laptop  \n",
    " union  \n",
    " select model, price  \n",
    " from Printer  \n",
    ") t1  \n",
    "where price = (  \n",
    " select max(price)  \n",
    " from (  \n",
    "  select price  \n",
    "  from pc  \n",
    "  union  \n",
    "  select price  \n",
    "  from Laptop  \n",
    "  union  \n",
    "  select price  \n",
    "  from Printer  \n",
    "  ) t2  \n",
    " )  "
   ]
  },
  {
   "cell_type": "markdown",
   "metadata": {},
   "source": [
    "#### Задание: 25 (Serge I: 2003-02-14)\n",
    "Найдите производителей принтеров, которые производят ПК с наименьшим объемом RAM и с самым быстрым процессором среди всех ПК, имеющих наименьший объем RAM. Вывести: Maker\n",
    "\n",
    "select distinct maker  \n",
    "from product  \n",
    "where model in (  \n",
    "select model  \n",
    "from pc    \n",
    "where ram = (  \n",
    "  select min(ram)  \n",
    "  from pc  \n",
    "  )   \n",
    "and speed = (  \n",
    "  select max(speed)  \n",
    "  from pc  \n",
    "  where ram = (  \n",
    "   select MIN(ram)  \n",
    "   from pc  \n",
    "   )  \n",
    "  )  \n",
    ")  \n",
    "and  \n",
    "maker in (  \n",
    "select maker  \n",
    "from product  \n",
    "where type='printer'  \n",
    ")  "
   ]
  },
  {
   "cell_type": "markdown",
   "metadata": {},
   "source": [
    "#### Задание: 26 (Serge I: 2003-02-14)\n",
    "Найдите среднюю цену ПК и ПК-блокнотов, выпущенных производителем A (латинская буква). Вывести: одна общая средняя цена.\n",
    "\n",
    "select sum(s.price)/sum(s.kol) as sredn from  \n",
    "(select price,1 as kol from pc,product  \n",
    " where pc.model=product.model and product.maker='A'  \n",
    "union all  \n",
    " select price,1 as kol from laptop,product  \n",
    " where laptop.model=product.model and product.maker='A') as s  "
   ]
  },
  {
   "cell_type": "markdown",
   "metadata": {},
   "source": [
    "#### Задание: 27 (Serge I: 2003-02-03)\n",
    "Найдите средний размер диска ПК каждого из тех производителей, которые выпускают и принтеры. Вывести: maker, средний размер HD.\n",
    "\n",
    "select product.maker, avg(pc.hd)   \n",
    "from pc, product where product.model = pc.model  \n",
    "and product.maker in (select distinct maker  \n",
    "from product  \n",
    "where product.type = 'printer')  \n",
    "group by maker  "
   ]
  },
  {
   "cell_type": "markdown",
   "metadata": {},
   "source": [
    "#### Задание: 28 (Serge I: 2012-05-04)\n",
    "Используя таблицу Product, определить количество производителей, выпускающих по одной модели.\n",
    "\n",
    "select count(maker)  \n",
    "from (  \n",
    "select maker, count(distinct model) wtf  \n",
    "from Product  \n",
    "group by maker  \n",
    "having count(distinct model)=1  \n",
    ") f1  "
   ]
  },
  {
   "cell_type": "markdown",
   "metadata": {},
   "source": [
    "#### Задание: 29 (Serge I: 2003-02-14)\n",
    "В предположении, что приход и расход денег на каждом пункте приема фиксируется не чаще одного раза в день [т.е. первичный ключ (пункт, дата)], написать запрос с выходными данными (пункт, дата, приход, расход). Использовать таблицы Income_o и Outcome_o.\n",
    "\n",
    "select t1.point, t1.date, inc, out  \n",
    "from income_o t1 left join outcome_o t2 ON t1.point = t2.point  \n",
    "and t1.date = t2.date  \n",
    "union  \n",
    "select t2.point, t2.date, inc, out  \n",
    "from income_o t1 right join outcome_o t2 ON t1.point = t2.point  \n",
    "and t1.date = t2.date  "
   ]
  },
  {
   "cell_type": "markdown",
   "metadata": {},
   "source": [
    "#### Задание: 30 (Serge I: 2003-02-14)\n",
    "В предположении, что приход и расход денег на каждом пункте приема фиксируется произвольное число раз (первичным ключом в таблицах является столбец code), требуется получить таблицу, в которой каждому пункту за каждую дату выполнения операций будет соответствовать одна строка.\n",
    "Вывод: point, date, суммарный расход пункта за день (out), суммарный приход пункта за день (inc). Отсутствующие значения считать неопределенными (NULL)."
   ]
  },
  {
   "cell_type": "markdown",
   "metadata": {},
   "source": [
    "select point, date, sum(sum_out), sum(sum_inc)  \n",
    "from( select point, date, sum(inc) as sum_inc, null as sum_out from Income group by point, date  \n",
    "union  \n",
    "select point, date, null as sum_inc, sum(out) as sum_out from Outcome group by point, date ) as t  \n",
    "group by point, date order by point  "
   ]
  }
 ],
 "metadata": {
  "kernelspec": {
   "display_name": "Python 3",
   "language": "python",
   "name": "python3"
  },
  "language_info": {
   "codemirror_mode": {
    "name": "ipython",
    "version": 3
   },
   "file_extension": ".py",
   "mimetype": "text/x-python",
   "name": "python",
   "nbconvert_exporter": "python",
   "pygments_lexer": "ipython3",
   "version": "3.7.4"
  }
 },
 "nbformat": 4,
 "nbformat_minor": 2
}
